{
  "nbformat": 4,
  "nbformat_minor": 0,
  "metadata": {
    "colab": {
      "name": "Glaucoma_Data_augmentation_Zoom.ipynb",
      "provenance": [],
      "toc_visible": true,
      "authorship_tag": "ABX9TyMjoVPZ23IRf+7Z0CcmLgo3",
      "include_colab_link": true
    },
    "kernelspec": {
      "name": "python3",
      "display_name": "Python 3"
    },
    "language_info": {
      "name": "python"
    },
    "accelerator": "GPU"
  },
  "cells": [
    {
      "cell_type": "markdown",
      "metadata": {
        "id": "view-in-github",
        "colab_type": "text"
      },
      "source": [
        "<a href=\"https://colab.research.google.com/github/hamaminezakaria/Master-Data-Augmentation/blob/main/Glaucoma_Data_augmentation_Zoom.ipynb\" target=\"_parent\"><img src=\"https://colab.research.google.com/assets/colab-badge.svg\" alt=\"Open In Colab\"/></a>"
      ]
    },
    {
      "cell_type": "code",
      "metadata": {
        "id": "baNPHT-Men05"
      },
      "source": [
        "import numpy as np\n",
        "import pandas as pd\n",
        "import matplotlib.pyplot as plt\n",
        "import time as t\n",
        "import cv2\n",
        "import warnings\n",
        "import shutil\n",
        "import os\n",
        "#import keras\n",
        "from keras.utils import to_categorical\n",
        "from keras.models import Sequential\n",
        "from keras import regularizers\n",
        "from keras.layers import Dense, Dropout\n",
        "from matplotlib import pyplot\n",
        "\n",
        "\n",
        "# Sklearn utils.\n",
        "from sklearn.model_selection import train_test_split\n",
        "from sklearn.metrics import confusion_matrix\n",
        "from sklearn.utils import shuffle\n",
        "\n",
        "# Keras.\n",
        "import cv2\n",
        "import numpy as np\n",
        "import os\n",
        "import random\n",
        "from tensorflow.keras.applications.densenet import DenseNet121\n",
        "from tensorflow.python.keras import Model\n",
        "from tensorflow.python.keras.layers import Dense, Flatten\n",
        "from tensorflow.keras import layers\n",
        "from keras.applications.resnet50 import ResNet50\n",
        "from keras.applications import DenseNet121\n",
        "from keras.utils import Sequence\n",
        "from keras.layers import Dense, Dropout, Flatten, Input, ZeroPadding2D, GlobalAveragePooling2D\n",
        "from keras.models import Sequential\n",
        "from keras.layers import Conv2D, MaxPooling2D\n",
        "from keras.layers.normalization import BatchNormalization\n",
        "from keras import regularizers\n",
        "from keras.models import Model\n",
        "from keras.callbacks import EarlyStopping, ReduceLROnPlateau, ModelCheckpoint\n",
        "from keras import optimizers\n",
        "from keras.utils import to_categorical\n",
        "from keras.preprocessing.image import ImageDataGenerator\n",
        "from keras import backend as K\n",
        "import tensorflow as tf\n",
        "\n",
        "# to generate data augmentation a partir de aptos 2019 preprocessed\n",
        "import imageio\n",
        "import imgaug as ia\n",
        "import imgaug.augmenters as iaa\n",
        "import numpy as np\n",
        "import pandas as pd\n",
        "import matplotlib.pyplot as plt\n",
        "import matplotlib.patches as patches\n",
        "import matplotlib\n",
        "import os\n",
        "import cv2\n",
        "%matplotlib inline"
      ],
      "execution_count": 1,
      "outputs": []
    },
    {
      "cell_type": "code",
      "metadata": {
        "colab": {
          "base_uri": "https://localhost:8080/"
        },
        "id": "J43LjEzPBEkk",
        "outputId": "65b4fc23-11ea-4cc1-abd5-3c78ea1e133c"
      },
      "source": [
        "\n",
        "from google.colab import drive\n",
        "drive.mount(\"/content/drive\", force_remount=True)"
      ],
      "execution_count": 2,
      "outputs": [
        {
          "output_type": "stream",
          "text": [
            "Mounted at /content/drive\n"
          ],
          "name": "stdout"
        }
      ]
    },
    {
      "cell_type": "code",
      "metadata": {
        "id": "WL1HQdpZB7mN"
      },
      "source": [
        "#unzip the dataset\n",
        "\n",
        "# for the train\n",
        "!unzip /content/drive/MyDrive/dataset/Glaucoma/Glaucoma_dataset.zip\n"
      ],
      "execution_count": null,
      "outputs": []
    },
    {
      "cell_type": "code",
      "metadata": {
        "colab": {
          "base_uri": "https://localhost:8080/"
        },
        "id": "HkXu9GwLob9c",
        "outputId": "99df02be-991e-4457-9739-712a1a5b6b40"
      },
      "source": [
        "path_train = 'train'\n",
        "path_test = 'test'\n",
        "\n",
        "\n",
        "def createBatchFolder(pathName):\n",
        "    try:\n",
        "        os.mkdir(pathName)\n",
        "    except OSError:\n",
        "        print (\"Creation of the directory %s failed\" % pathName)\n",
        "    else:\n",
        "        print (\"Successfully created the directory %s \" % pathName)\n",
        "    finally:\n",
        "        for i in range(2):\n",
        "          try:\n",
        "              pathBatch = pathName+'/'+str(i)\n",
        "              os.mkdir(pathBatch)\n",
        "          except OSError:\n",
        "              print (\"Creation of the directory %s failed\" % pathName)\n",
        "\n",
        "# call the create path function\n",
        "createBatchFolder(path_train)\n",
        "createBatchFolder(path_test)"
      ],
      "execution_count": 4,
      "outputs": [
        {
          "output_type": "stream",
          "text": [
            "Successfully created the directory train \n",
            "Successfully created the directory test \n"
          ],
          "name": "stdout"
        }
      ]
    },
    {
      "cell_type": "code",
      "metadata": {
        "id": "tjWpPzS4y0-3"
      },
      "source": [
        "\n",
        "\n",
        "import random\n",
        "import os\n",
        "BASE_DIR = \"/content/Glaucoma_dataset/train/Non-glaucome\"\n",
        "NEW_DIR= \"train/0\"\n",
        "\n",
        "list_dir =  os.listdir(BASE_DIR)\n",
        "\n",
        "for images in list_dir:\n",
        "    image = cv2.imread(BASE_DIR + \"/\"+ images)\n",
        "    image = cv2.resize(image,(299,299))\n",
        "    try:\n",
        "        cv2.imwrite(NEW_DIR + \"/\" + images,image)\n",
        "    except Exception: \n",
        "        pass\n",
        "    \n",
        "\n",
        "BASE_DIR = \"/content/Glaucoma_dataset/train/Glaucome\"\n",
        "NEW_DIR= \"train/1\"\n",
        "\n",
        "list_dir =  os.listdir(BASE_DIR)\n",
        "\n",
        "for images in list_dir:\n",
        "    image = cv2.imread(BASE_DIR + \"/\"+ images)\n",
        "    image = cv2.resize(image,(299,299))\n",
        "    try:\n",
        "        cv2.imwrite(NEW_DIR + \"/\" + images,image)\n",
        "    except Exception: \n",
        "        pass"
      ],
      "execution_count": 5,
      "outputs": []
    },
    {
      "cell_type": "code",
      "metadata": {
        "id": "U2G-vL6UPhTx"
      },
      "source": [
        "import random\n",
        "import os\n",
        "BASE_DIR = \"/content/Glaucoma_dataset/test/Non-glaucome\"\n",
        "NEW_DIR= \"test/0\"\n",
        "\n",
        "list_dir =  os.listdir(BASE_DIR)\n",
        "\n",
        "for images in list_dir:\n",
        "    image = cv2.imread(BASE_DIR + \"/\"+ images)\n",
        "    image = cv2.resize(image,(299,299))\n",
        "    try:\n",
        "        cv2.imwrite(NEW_DIR + \"/\" + images,image)\n",
        "    except Exception: \n",
        "        pass\n",
        "    \n",
        "\n",
        "BASE_DIR = \"/content/Glaucoma_dataset/test/Glaucome\"\n",
        "NEW_DIR= \"test/1\"\n",
        "\n",
        "list_dir =  os.listdir(BASE_DIR)\n",
        "\n",
        "for images in list_dir:\n",
        "    image = cv2.imread(BASE_DIR + \"/\"+ images)\n",
        "    image = cv2.resize(image,(299,299))\n",
        "    try:\n",
        "        cv2.imwrite(NEW_DIR + \"/\" + images,image)\n",
        "    except Exception: \n",
        "        pass"
      ],
      "execution_count": 6,
      "outputs": []
    },
    {
      "cell_type": "code",
      "metadata": {
        "colab": {
          "base_uri": "https://localhost:8080/"
        },
        "id": "2Nzx2D9IUZ9I",
        "outputId": "d8e46112-4ae1-4a42-8e9c-8eb4627bb52a"
      },
      "source": [
        "!ls train/0 | wc -l\n",
        "!ls train/1 | wc -l\n",
        "\n",
        "!ls test/0 | wc -l\n",
        "!ls test/1 | wc -l"
      ],
      "execution_count": 7,
      "outputs": [
        {
          "output_type": "stream",
          "text": [
            "2387\n",
            "1477\n",
            "756\n",
            "234\n"
          ],
          "name": "stdout"
        }
      ]
    },
    {
      "cell_type": "markdown",
      "metadata": {
        "id": "NIrLUerWk2pq"
      },
      "source": [
        "#Agmentation"
      ]
    },
    {
      "cell_type": "code",
      "metadata": {
        "id": "b1IRL5tlI9jj"
      },
      "source": [
        "from tensorflow import keras\n",
        "import matplotlib.pyplot as plt\n",
        "\n",
        "\n",
        "path = 'train/0'\n",
        "list_images =  os.listdir(path)\n",
        "\n",
        "for img in list_images:\n",
        "  image = cv2.imread(path+'/'+img)\n",
        "  image = np.expand_dims(cv2.cvtColor(image, cv2.COLOR_BGR2RGB), 0)\n",
        "\n",
        "  data_generator = keras.preprocessing.image.ImageDataGenerator(zoom_range=0.2,\n",
        "                                                                fill_mode='constant')\n",
        "  data_generator.fit(image)\n",
        "\n",
        "  dir_It = data_generator.flow(\n",
        "      image,\n",
        "      batch_size=1,\n",
        "      save_to_dir=path,\n",
        "      save_prefix=\"00\",\n",
        "      save_format='png',\n",
        "  )\n",
        "\n",
        "  for _ in range(5):\n",
        "      img = dir_It.next()"
      ],
      "execution_count": 8,
      "outputs": []
    },
    {
      "cell_type": "code",
      "metadata": {
        "id": "P5_GxAxWk08b"
      },
      "source": [
        "from tensorflow import keras\n",
        "import matplotlib.pyplot as plt\n",
        "\n",
        "\n",
        "path = 'train/1'\n",
        "list_images =  os.listdir(path)\n",
        "\n",
        "for img in list_images:\n",
        "  image = cv2.imread(path+'/'+img)\n",
        "  image = np.expand_dims(cv2.cvtColor(image, cv2.COLOR_BGR2RGB), 0)\n",
        "\n",
        "  data_generator = keras.preprocessing.image.ImageDataGenerator(zoom_range=0.2,\n",
        "                                                                fill_mode='constant')\n",
        "  data_generator.fit(image)\n",
        "\n",
        "  dir_It = data_generator.flow(\n",
        "      image,\n",
        "      batch_size=1,\n",
        "      save_to_dir=path,\n",
        "      save_prefix=\"00\",\n",
        "      save_format='png',\n",
        "  )\n",
        "\n",
        "  for _ in range(7):\n",
        "      img = dir_It.next()"
      ],
      "execution_count": 9,
      "outputs": []
    },
    {
      "cell_type": "code",
      "metadata": {
        "id": "E7Drb-MR0ANs",
        "colab": {
          "base_uri": "https://localhost:8080/"
        },
        "outputId": "69da6bff-d33b-4d7c-9fde-7bacc7fe5814"
      },
      "source": [
        "from keras.preprocessing.image import ImageDataGenerator\n",
        "import numpy\n",
        "import math\n",
        "batchSize = 32\n",
        "\n",
        "train_datagen = ImageDataGenerator(\n",
        "      rescale=1./255,\n",
        "      ) \n",
        "\n",
        "train_generator = train_datagen.flow_from_directory(\n",
        "      'train',\n",
        "      target_size=(299,299),\n",
        "      #target_size=(224,224),\n",
        "      color_mode='rgb',\n",
        "      batch_size=batchSize,\n",
        "      class_mode='binary',\n",
        "      shuffle=True)\n",
        "\n",
        "  # ******* for validation dataset\n",
        "val_generator = train_datagen.flow_from_directory(\n",
        "      'test',\n",
        "      target_size=(299,299),\n",
        "      #target_size=(224,224),\n",
        "      class_mode='binary',    \n",
        "      color_mode='rgb',\n",
        "  )\n"
      ],
      "execution_count": 10,
      "outputs": [
        {
          "output_type": "stream",
          "text": [
            "Found 17260 images belonging to 2 classes.\n",
            "Found 990 images belonging to 2 classes.\n"
          ],
          "name": "stdout"
        }
      ]
    },
    {
      "cell_type": "code",
      "metadata": {
        "id": "WiTGg-yiluKz",
        "colab": {
          "base_uri": "https://localhost:8080/"
        },
        "outputId": "915ef3dd-3f49-40fd-f48b-8ecd2710a22e"
      },
      "source": [
        "!ls train/0 | wc -l\n",
        "!ls train/1 | wc -l\n"
      ],
      "execution_count": 11,
      "outputs": [
        {
          "output_type": "stream",
          "text": [
            "9382\n",
            "7878\n"
          ],
          "name": "stdout"
        }
      ]
    },
    {
      "cell_type": "markdown",
      "metadata": {
        "id": "rYc6elLWVqP9"
      },
      "source": [
        "# Inception"
      ]
    },
    {
      "cell_type": "code",
      "metadata": {
        "id": "jVv9fVp-Vo0V",
        "colab": {
          "base_uri": "https://localhost:8080/"
        },
        "outputId": "7350b8be-1bb6-4fb9-acf7-ed988003ba74"
      },
      "source": [
        "from tensorflow.keras.applications.inception_v3 import InceptionV3\n",
        "from tensorflow.python.keras import Model\n",
        "from tensorflow.python.keras.layers import Dense, Flatten\n",
        "from tensorflow.keras import layers\n",
        "\n",
        "fc_layers = [1024, 512, 128]\n",
        "dropout = 0.5\n",
        "\n",
        "\n",
        "pre_trained_model = InceptionV3(input_shape = (299,299,3), # Shape of our images\n",
        "                                include_top = False, # Leave out the last fully connected layer\n",
        "                                weights = 'imagenet')\n",
        "\n",
        "for layer in pre_trained_model.layers:\n",
        "        layer.trainable = False\n",
        "\n",
        "x = Flatten(input_shape=pre_trained_model.output.shape)(pre_trained_model.output)\n",
        "\n",
        "for fc in fc_layers:\n",
        "    x = Dense(fc, activation='relu')(x)\n",
        "    x = Dropout(dropout)(x)\n",
        "\n",
        "predictions = Dense(1, activation='sigmoid', name='pred')(x)\n",
        "model = Model(inputs=[pre_trained_model.input], outputs=[predictions])\n",
        "\n",
        "\n",
        "model.compile(\n",
        "    loss='binary_crossentropy',\n",
        "    optimizer=optimizers.Adam(lr=0.0005),\n",
        "    metrics=['accuracy']\n",
        ")\n"
      ],
      "execution_count": 12,
      "outputs": [
        {
          "output_type": "stream",
          "text": [
            "Downloading data from https://storage.googleapis.com/tensorflow/keras-applications/inception_v3/inception_v3_weights_tf_dim_ordering_tf_kernels_notop.h5\n",
            "87916544/87910968 [==============================] - 1s 0us/step\n"
          ],
          "name": "stdout"
        }
      ]
    },
    {
      "cell_type": "markdown",
      "metadata": {
        "id": "MI__YmFtXHTW"
      },
      "source": [
        "# Compile and train model"
      ]
    },
    {
      "cell_type": "code",
      "metadata": {
        "id": "yPEq9xJKW-K0",
        "colab": {
          "base_uri": "https://localhost:8080/"
        },
        "outputId": "230284f0-5207-44ea-abb3-010694118cea"
      },
      "source": [
        "\n",
        "history = model.fit_generator(\n",
        "    train_generator,\n",
        "    steps_per_epoch=math.ceil(train_generator.samples//batchSize),\n",
        "    epochs=20,\n",
        "    validation_data = val_generator,\n",
        "    validation_steps = math.ceil(val_generator.samples//batchSize),\n",
        "    verbose = 1)"
      ],
      "execution_count": 13,
      "outputs": [
        {
          "output_type": "stream",
          "text": [
            "/usr/local/lib/python3.7/dist-packages/tensorflow/python/keras/engine/training.py:1844: UserWarning: `Model.fit_generator` is deprecated and will be removed in a future version. Please use `Model.fit`, which supports generators.\n",
            "  warnings.warn('`Model.fit_generator` is deprecated and '\n"
          ],
          "name": "stderr"
        },
        {
          "output_type": "stream",
          "text": [
            "Epoch 1/20\n",
            "539/539 [==============================] - 113s 173ms/step - loss: 4.9210 - accuracy: 0.6676 - val_loss: 0.4012 - val_accuracy: 0.8021\n",
            "Epoch 2/20\n",
            "539/539 [==============================] - 90s 166ms/step - loss: 0.4432 - accuracy: 0.8022 - val_loss: 0.3321 - val_accuracy: 0.8427\n",
            "Epoch 3/20\n",
            "539/539 [==============================] - 89s 166ms/step - loss: 0.3484 - accuracy: 0.8495 - val_loss: 0.3317 - val_accuracy: 0.8802\n",
            "Epoch 4/20\n",
            "539/539 [==============================] - 90s 166ms/step - loss: 0.3019 - accuracy: 0.8696 - val_loss: 0.2473 - val_accuracy: 0.8906\n",
            "Epoch 5/20\n",
            "539/539 [==============================] - 89s 166ms/step - loss: 0.2545 - accuracy: 0.8905 - val_loss: 0.2629 - val_accuracy: 0.8927\n",
            "Epoch 6/20\n",
            "539/539 [==============================] - 89s 165ms/step - loss: 0.2393 - accuracy: 0.8873 - val_loss: 0.2131 - val_accuracy: 0.9125\n",
            "Epoch 7/20\n",
            "539/539 [==============================] - 89s 165ms/step - loss: 0.1973 - accuracy: 0.9071 - val_loss: 0.2252 - val_accuracy: 0.9104\n",
            "Epoch 8/20\n",
            "539/539 [==============================] - 90s 166ms/step - loss: 0.1852 - accuracy: 0.9190 - val_loss: 0.2121 - val_accuracy: 0.9187\n",
            "Epoch 9/20\n",
            "539/539 [==============================] - 90s 166ms/step - loss: 0.1644 - accuracy: 0.9283 - val_loss: 0.2055 - val_accuracy: 0.9167\n",
            "Epoch 10/20\n",
            "539/539 [==============================] - 90s 167ms/step - loss: 0.1688 - accuracy: 0.9223 - val_loss: 0.2817 - val_accuracy: 0.8938\n",
            "Epoch 11/20\n",
            "539/539 [==============================] - 90s 168ms/step - loss: 0.1465 - accuracy: 0.9322 - val_loss: 0.2344 - val_accuracy: 0.9125\n",
            "Epoch 12/20\n",
            "539/539 [==============================] - 90s 167ms/step - loss: 0.1350 - accuracy: 0.9373 - val_loss: 0.3432 - val_accuracy: 0.9062\n",
            "Epoch 13/20\n",
            "539/539 [==============================] - 90s 167ms/step - loss: 0.1381 - accuracy: 0.9327 - val_loss: 0.3232 - val_accuracy: 0.9115\n",
            "Epoch 14/20\n",
            "539/539 [==============================] - 90s 168ms/step - loss: 0.1299 - accuracy: 0.9414 - val_loss: 0.2312 - val_accuracy: 0.9271\n",
            "Epoch 15/20\n",
            "539/539 [==============================] - 90s 168ms/step - loss: 0.1245 - accuracy: 0.9389 - val_loss: 0.3066 - val_accuracy: 0.9177\n",
            "Epoch 16/20\n",
            "539/539 [==============================] - 91s 168ms/step - loss: 0.1218 - accuracy: 0.9437 - val_loss: 0.3206 - val_accuracy: 0.9125\n",
            "Epoch 17/20\n",
            "539/539 [==============================] - 91s 168ms/step - loss: 0.1175 - accuracy: 0.9423 - val_loss: 0.2270 - val_accuracy: 0.9135\n",
            "Epoch 18/20\n",
            "539/539 [==============================] - 90s 167ms/step - loss: 0.1066 - accuracy: 0.9493 - val_loss: 0.4066 - val_accuracy: 0.8969\n",
            "Epoch 19/20\n",
            "539/539 [==============================] - 90s 167ms/step - loss: 0.1022 - accuracy: 0.9524 - val_loss: 0.2762 - val_accuracy: 0.9250\n",
            "Epoch 20/20\n",
            "539/539 [==============================] - 90s 168ms/step - loss: 0.0908 - accuracy: 0.9562 - val_loss: 0.3410 - val_accuracy: 0.9187\n"
          ],
          "name": "stdout"
        }
      ]
    },
    {
      "cell_type": "code",
      "metadata": {
        "id": "EjBZHydW4hkt",
        "colab": {
          "base_uri": "https://localhost:8080/",
          "height": 313
        },
        "outputId": "a6f0f9a0-9ed8-4a8d-9708-e5c8a592dcef"
      },
      "source": [
        "# display the performance of the model graphically\n",
        "import matplotlib.pyplot as plt\n",
        "%matplotlib inline\n",
        "print(history.history.keys())\n",
        "acc = history.history['accuracy']\n",
        "val_acc = history.history['val_accuracy']\n",
        "loss = history.history['loss']\n",
        "val_loss = history.history['val_loss']\n",
        "\n",
        "epochs = range(len(acc))\n",
        "\n",
        "plt.plot(epochs, acc, 'r', label='Training accuracy')\n",
        "plt.plot(epochs, val_acc, 'b', label='Validation accuracy')\n",
        "plt.title('Training and validation Acc')\n",
        "plt.legend(loc=0)\n",
        "plt.figure()\n",
        "\n",
        "plt.show()"
      ],
      "execution_count": 14,
      "outputs": [
        {
          "output_type": "stream",
          "text": [
            "dict_keys(['loss', 'accuracy', 'val_loss', 'val_accuracy'])\n"
          ],
          "name": "stdout"
        },
        {
          "output_type": "display_data",
          "data": {
            "image/png": "[encoded data removed]",
            "text/plain": [
              "<Figure size 432x288 with 1 Axes>"
            ]
          },
          "metadata": {
            "tags": [],
            "needs_background": "light"
          }
        },
        {
          "output_type": "display_data",
          "data": {
            "text/plain": [
              "<Figure size 432x288 with 0 Axes>"
            ]
          },
          "metadata": {
            "tags": []
          }
        }
      ]
    },
    {
      "cell_type": "code",
      "metadata": {
        "id": "YmOpBNoVXLbg",
        "colab": {
          "base_uri": "https://localhost:8080/",
          "height": 297
        },
        "outputId": "94b060c8-60dd-4edd-d401-36c8c92cfb24"
      },
      "source": [
        "# display the performance of the model graphically\n",
        "import matplotlib.pyplot as plt\n",
        "%matplotlib inline\n",
        "\n",
        "plt.plot(epochs, loss, 'g', label='Training loss')\n",
        "plt.plot(epochs, val_loss, 'y', label='Validation loss')\n",
        "plt.title('Training and validation Loss')\n",
        "plt.legend(loc=0)\n",
        "plt.figure()\n",
        "\n",
        "plt.show()"
      ],
      "execution_count": 15,
      "outputs": [
        {
          "output_type": "display_data",
          "data": {
            "image/png": "[encoded data removed]",
            "text/plain": [
              "<Figure size 432x288 with 1 Axes>"
            ]
          },
          "metadata": {
            "tags": [],
            "needs_background": "light"
          }
        },
        {
          "output_type": "display_data",
          "data": {
            "text/plain": [
              "<Figure size 432x288 with 0 Axes>"
            ]
          },
          "metadata": {
            "tags": []
          }
        }
      ]
    },
    {
      "cell_type": "code",
      "metadata": {
        "id": "98WqjORlIeMX",
        "colab": {
          "base_uri": "https://localhost:8080/"
        },
        "outputId": "db8bb62f-a052-4f17-8031-4e0dd667236e"
      },
      "source": [
        "score = model.evaluate(val_generator)\n",
        "print(score)"
      ],
      "execution_count": 16,
      "outputs": [
        {
          "output_type": "stream",
          "text": [
            "31/31 [==============================] - 4s 123ms/step - loss: 0.3351 - accuracy: 0.9192\n",
            "[0.3351387679576874, 0.9191918969154358]\n"
          ],
          "name": "stdout"
        }
      ]
    },
    {
      "cell_type": "markdown",
      "metadata": {
        "id": "Ml2MeepgWxeG"
      },
      "source": [
        "# Confusion_Matrix_Test"
      ]
    },
    {
      "cell_type": "code",
      "metadata": {
        "id": "43Rx0vr6JL7S",
        "colab": {
          "base_uri": "https://localhost:8080/"
        },
        "outputId": "10b69cab-c062-4519-c28f-7f4ea9d66047"
      },
      "source": [
        "from tqdm import tqdm\n",
        "# Store the data in X_train, y_train variables by iterating over the batches\n",
        "\n",
        "val_generator.reset()\n",
        "x_test, y_test = next(val_generator)\n",
        "for i in tqdm(range(int(val_generator.samples/batchSize)-1)): #1st batch is alread fetched before the for loop\n",
        "  img, label = next(val_generator)\n",
        "  x_test = np.append(x_test, img, axis=0 )\n",
        "  y_test = np.append(y_test, label, axis=0)\n",
        "  \n",
        "# do the predictions\n",
        "y_predicted = model.predict(x_test)\n",
        "y_pred = np.round(y_predicted)\n",
        "\n",
        "import matplotlib.pyplot as plt\n",
        "from sklearn.metrics import confusion_matrix,classification_report\n",
        "font = {\n",
        "'family': 'Times New Roman',\n",
        "'size': 12\n",
        "}\n",
        "plt.rc('font', **font)\n",
        "mat = confusion_matrix(np.round(y_test),y_pred)\n",
        "print(mat)\n",
        "#class_labels = list(val_generator.class_indices.keys())\n",
        "class_labels=['0','1']\n",
        "report = classification_report(np.round(y_test), y_pred, target_names=class_labels)\n",
        "print(report)"
      ],
      "execution_count": 17,
      "outputs": [
        {
          "output_type": "stream",
          "text": [
            "100%|██████████| 29/29 [00:07<00:00,  3.82it/s]\n"
          ],
          "name": "stderr"
        },
        {
          "output_type": "stream",
          "text": [
            "[[672  61]\n",
            " [ 18 209]]\n",
            "              precision    recall  f1-score   support\n",
            "\n",
            "           0       0.97      0.92      0.94       733\n",
            "           1       0.77      0.92      0.84       227\n",
            "\n",
            "    accuracy                           0.92       960\n",
            "   macro avg       0.87      0.92      0.89       960\n",
            "weighted avg       0.93      0.92      0.92       960\n",
            "\n"
          ],
          "name": "stdout"
        }
      ]
    }
  ]
}