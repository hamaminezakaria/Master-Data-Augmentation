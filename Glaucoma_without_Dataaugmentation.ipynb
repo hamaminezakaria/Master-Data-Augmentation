{
  "nbformat": 4,
  "nbformat_minor": 0,
  "metadata": {
    "colab": {
      "name": "Glaucoma_without_Dataaugmentation.ipynb",
      "provenance": [],
      "collapsed_sections": [
        "kHGPK1cWKjuM",
        "m8McRFXGymzi",
        "5JKXsJG24HPC",
        "SeuJnIcP-Gv3"
      ],
      "toc_visible": true,
      "authorship_tag": "ABX9TyPn+MAv1Ha7TlbB+OksrlMA",
      "include_colab_link": true
    },
    "kernelspec": {
      "name": "python3",
      "display_name": "Python 3"
    },
    "language_info": {
      "name": "python"
    },
    "accelerator": "GPU"
  },
  "cells": [
    {
      "cell_type": "markdown",
      "metadata": {
        "id": "view-in-github",
        "colab_type": "text"
      },
      "source": [
        "<a href=\"https://colab.research.google.com/github/hamaminezakaria/Master-Data-Augmentation/blob/main/Glaucoma_without_Dataaugmentation.ipynb\" target=\"_parent\"><img src=\"https://colab.research.google.com/assets/colab-badge.svg\" alt=\"Open In Colab\"/></a>"
      ]
    },
    {
      "cell_type": "code",
      "metadata": {
        "id": "baNPHT-Men05"
      },
      "source": [
        "import numpy as np\n",
        "import pandas as pd\n",
        "import matplotlib.pyplot as plt\n",
        "import time as t\n",
        "import cv2\n",
        "import warnings\n",
        "import shutil\n",
        "import os\n",
        "#import keras\n",
        "from keras.utils import to_categorical\n",
        "from keras.models import Sequential\n",
        "from keras import regularizers\n",
        "from keras.layers import Dense, Dropout\n",
        "from matplotlib import pyplot\n",
        "\n",
        "\n",
        "# Sklearn utils.\n",
        "from sklearn.model_selection import train_test_split\n",
        "from sklearn.metrics import confusion_matrix\n",
        "from sklearn.utils import shuffle\n",
        "\n",
        "# Keras.\n",
        "import cv2\n",
        "import numpy as np\n",
        "import os\n",
        "import random\n",
        "from tensorflow.keras.applications.densenet import DenseNet121\n",
        "from tensorflow.python.keras import Model\n",
        "from tensorflow.python.keras.layers import Dense, Flatten\n",
        "from tensorflow.keras import layers\n",
        "from keras.applications.resnet50 import ResNet50\n",
        "from keras.applications import DenseNet121\n",
        "from keras.utils import Sequence\n",
        "from keras.layers import Dense, Dropout, Flatten, Input, ZeroPadding2D, GlobalAveragePooling2D\n",
        "from keras.models import Sequential\n",
        "from keras.layers import Conv2D, MaxPooling2D\n",
        "from keras.layers.normalization import BatchNormalization\n",
        "from keras import regularizers\n",
        "from keras.models import Model\n",
        "from keras.callbacks import EarlyStopping, ReduceLROnPlateau, ModelCheckpoint\n",
        "from keras import optimizers\n",
        "from keras.utils import to_categorical\n",
        "from keras.preprocessing.image import ImageDataGenerator\n",
        "from keras import backend as K\n",
        "import tensorflow as tf\n",
        "\n",
        "# to generate data augmentation a partir de aptos 2019 preprocessed\n",
        "import imageio\n",
        "import imgaug as ia\n",
        "import imgaug.augmenters as iaa\n",
        "import numpy as np\n",
        "import pandas as pd\n",
        "import matplotlib.pyplot as plt\n",
        "import matplotlib.patches as patches\n",
        "import matplotlib\n",
        "import os\n",
        "import cv2\n",
        "%matplotlib inline"
      ],
      "execution_count": 1,
      "outputs": []
    },
    {
      "cell_type": "code",
      "metadata": {
        "colab": {
          "base_uri": "https://localhost:8080/"
        },
        "id": "J43LjEzPBEkk",
        "outputId": "10372ff8-1e9f-430b-9604-a9ef0a7b591f"
      },
      "source": [
        "\n",
        "from google.colab import drive\n",
        "drive.mount(\"/content/drive\", force_remount=True)"
      ],
      "execution_count": 2,
      "outputs": [
        {
          "output_type": "stream",
          "text": [
            "Mounted at /content/drive\n"
          ],
          "name": "stdout"
        }
      ]
    },
    {
      "cell_type": "code",
      "metadata": {
        "id": "WL1HQdpZB7mN"
      },
      "source": [
        "#unzip the dataset\n",
        "\n",
        "# for the train\n",
        "!unzip /content/drive/MyDrive/dataset/Glaucoma/Glaucoma_dataset.zip\n"
      ],
      "execution_count": null,
      "outputs": []
    },
    {
      "cell_type": "code",
      "metadata": {
        "id": "5_ofOnVFovxi",
        "colab": {
          "base_uri": "https://localhost:8080/"
        },
        "outputId": "2013254b-ba0a-4b4f-8b34-3fcf6d22a33c"
      },
      "source": [
        "!rm -r train\n",
        "!rm -r test"
      ],
      "execution_count": 4,
      "outputs": [
        {
          "output_type": "stream",
          "text": [
            "rm: cannot remove 'train': No such file or directory\n",
            "rm: cannot remove 'test': No such file or directory\n"
          ],
          "name": "stdout"
        }
      ]
    },
    {
      "cell_type": "code",
      "metadata": {
        "colab": {
          "base_uri": "https://localhost:8080/"
        },
        "id": "HkXu9GwLob9c",
        "outputId": "5f0eb205-ef60-4ecf-c089-90c069365de1"
      },
      "source": [
        "path_train = 'train'\n",
        "path_test = 'test'\n",
        "\n",
        "\n",
        "def createBatchFolder(pathName):\n",
        "    try:\n",
        "        os.mkdir(pathName)\n",
        "    except OSError:\n",
        "        print (\"Creation of the directory %s failed\" % pathName)\n",
        "    else:\n",
        "        print (\"Successfully created the directory %s \" % pathName)\n",
        "    finally:\n",
        "        for i in range(2):\n",
        "          try:\n",
        "              pathBatch = pathName+'/'+str(i)\n",
        "              os.mkdir(pathBatch)\n",
        "          except OSError:\n",
        "              print (\"Creation of the directory %s failed\" % pathName)\n",
        "\n",
        "# call the create path function\n",
        "createBatchFolder(path_train)\n",
        "createBatchFolder(path_test)"
      ],
      "execution_count": 5,
      "outputs": [
        {
          "output_type": "stream",
          "text": [
            "Successfully created the directory train \n",
            "Successfully created the directory test \n"
          ],
          "name": "stdout"
        }
      ]
    },
    {
      "cell_type": "code",
      "metadata": {
        "id": "tjWpPzS4y0-3"
      },
      "source": [
        "\n",
        "\n",
        "import random\n",
        "import os\n",
        "BASE_DIR = \"/content/Glaucoma_dataset/train/Non-glaucome\"\n",
        "NEW_DIR= \"train/0\"\n",
        "\n",
        "list_dir =  os.listdir(BASE_DIR)\n",
        "\n",
        "for images in list_dir:\n",
        "    image = cv2.imread(BASE_DIR + \"/\"+ images)\n",
        "    image = cv2.resize(image,(299,299))\n",
        "    try:\n",
        "        cv2.imwrite(NEW_DIR + \"/\" + images,image)\n",
        "    except Exception: \n",
        "        pass\n",
        "    \n",
        "\n",
        "BASE_DIR = \"/content/Glaucoma_dataset/train/Glaucome\"\n",
        "NEW_DIR= \"train/1\"\n",
        "\n",
        "list_dir =  os.listdir(BASE_DIR)\n",
        "\n",
        "for images in list_dir:\n",
        "    image = cv2.imread(BASE_DIR + \"/\"+ images)\n",
        "    image = cv2.resize(image,(299,299))\n",
        "    try:\n",
        "        cv2.imwrite(NEW_DIR + \"/\" + images,image)\n",
        "    except Exception: \n",
        "        pass"
      ],
      "execution_count": 6,
      "outputs": []
    },
    {
      "cell_type": "code",
      "metadata": {
        "id": "U2G-vL6UPhTx"
      },
      "source": [
        "import random\n",
        "import os\n",
        "BASE_DIR = \"/content/Glaucoma_dataset/test/Non-glaucome\"\n",
        "NEW_DIR= \"test/0\"\n",
        "\n",
        "list_dir =  os.listdir(BASE_DIR)\n",
        "\n",
        "for images in list_dir:\n",
        "    image = cv2.imread(BASE_DIR + \"/\"+ images)\n",
        "    image = cv2.resize(image,(299,299))\n",
        "    try:\n",
        "        cv2.imwrite(NEW_DIR + \"/\" + images,image)\n",
        "    except Exception: \n",
        "        pass\n",
        "    \n",
        "\n",
        "BASE_DIR = \"/content/Glaucoma_dataset/test/Glaucome\"\n",
        "NEW_DIR= \"test/1\"\n",
        "\n",
        "list_dir =  os.listdir(BASE_DIR)\n",
        "\n",
        "for images in list_dir:\n",
        "    image = cv2.imread(BASE_DIR + \"/\"+ images)\n",
        "    image = cv2.resize(image,(299,299))\n",
        "    try:\n",
        "        cv2.imwrite(NEW_DIR + \"/\" + images,image)\n",
        "    except Exception: \n",
        "        pass"
      ],
      "execution_count": 7,
      "outputs": []
    },
    {
      "cell_type": "code",
      "metadata": {
        "colab": {
          "base_uri": "https://localhost:8080/"
        },
        "id": "2Nzx2D9IUZ9I",
        "outputId": "26fd087f-3fbb-4d6f-bfdf-6aa76ec390ad"
      },
      "source": [
        "!ls train/0 | wc -l\n",
        "!ls train/1 | wc -l\n",
        "\n",
        "!ls test/0 | wc -l\n",
        "!ls test/1 | wc -l"
      ],
      "execution_count": 8,
      "outputs": [
        {
          "output_type": "stream",
          "text": [
            "2387\n",
            "1477\n",
            "756\n",
            "234\n"
          ],
          "name": "stdout"
        }
      ]
    },
    {
      "cell_type": "code",
      "metadata": {
        "id": "E7Drb-MR0ANs",
        "colab": {
          "base_uri": "https://localhost:8080/"
        },
        "outputId": "3d2ffd40-57a1-490d-f89f-22bbc1804ba4"
      },
      "source": [
        "from keras.preprocessing.image import ImageDataGenerator\n",
        "import numpy\n",
        "import math\n",
        "batchSize = 32\n",
        "\n",
        "train_datagen = ImageDataGenerator(\n",
        "      rescale=1./255,\n",
        "      ) \n",
        "\n",
        "train_generator = train_datagen.flow_from_directory(\n",
        "      'train',\n",
        "      target_size=(299,299),\n",
        "      #target_size=(224,224),\n",
        "      color_mode='rgb',\n",
        "      batch_size=batchSize,\n",
        "      class_mode='binary',\n",
        "      shuffle=True)\n",
        "\n",
        "  # ******* for validation dataset\n",
        "val_generator = train_datagen.flow_from_directory(\n",
        "      'test',\n",
        "      target_size=(299,299),\n",
        "      #target_size=(224,224),\n",
        "      class_mode='binary',    \n",
        "      color_mode='rgb',\n",
        "  )\n"
      ],
      "execution_count": 9,
      "outputs": [
        {
          "output_type": "stream",
          "text": [
            "Found 3864 images belonging to 2 classes.\n",
            "Found 990 images belonging to 2 classes.\n"
          ],
          "name": "stdout"
        }
      ]
    },
    {
      "cell_type": "markdown",
      "metadata": {
        "id": "rYc6elLWVqP9"
      },
      "source": [
        "# Inception"
      ]
    },
    {
      "cell_type": "code",
      "metadata": {
        "id": "jVv9fVp-Vo0V",
        "colab": {
          "base_uri": "https://localhost:8080/"
        },
        "outputId": "94ccf124-5d61-4a2b-f3b0-d7e21dcb7d44"
      },
      "source": [
        "from tensorflow.keras.applications.inception_v3 import InceptionV3\n",
        "from tensorflow.python.keras import Model\n",
        "from tensorflow.python.keras.layers import Dense, Flatten\n",
        "from tensorflow.keras import layers\n",
        "\n",
        "fc_layers = [1024, 512, 128]\n",
        "dropout = 0.5\n",
        "\n",
        "\n",
        "pre_trained_model = InceptionV3(input_shape = (299,299,3), # Shape of our images\n",
        "                                include_top = False, # Leave out the last fully connected layer\n",
        "                                weights = 'imagenet')\n",
        "\n",
        "for layer in pre_trained_model.layers:\n",
        "        layer.trainable = False\n",
        "\n",
        "x = Flatten(input_shape=pre_trained_model.output.shape)(pre_trained_model.output)\n",
        "\n",
        "for fc in fc_layers:\n",
        "    x = Dense(fc, activation='relu')(x)\n",
        "    x = Dropout(dropout)(x)\n",
        "\n",
        "predictions = Dense(1, activation='sigmoid', name='pred')(x)\n",
        "model = Model(inputs=[pre_trained_model.input], outputs=[predictions])\n",
        "\n",
        "\n",
        "model.compile(\n",
        "    loss='binary_crossentropy',\n",
        "    optimizer=optimizers.Adam(lr=0.0005),\n",
        "    metrics=['accuracy']\n",
        ")\n"
      ],
      "execution_count": 10,
      "outputs": [
        {
          "output_type": "stream",
          "text": [
            "Downloading data from https://storage.googleapis.com/tensorflow/keras-applications/inception_v3/inception_v3_weights_tf_dim_ordering_tf_kernels_notop.h5\n",
            "87916544/87910968 [==============================] - 1s 0us/step\n"
          ],
          "name": "stdout"
        }
      ]
    },
    {
      "cell_type": "markdown",
      "metadata": {
        "id": "MI__YmFtXHTW"
      },
      "source": [
        "# Compile and train model"
      ]
    },
    {
      "cell_type": "code",
      "metadata": {
        "id": "yPEq9xJKW-K0",
        "colab": {
          "base_uri": "https://localhost:8080/"
        },
        "outputId": "0b9564be-24ae-4fb3-e441-5f95c870ed73"
      },
      "source": [
        "\n",
        "\n",
        "history = model.fit_generator(\n",
        "    train_generator,\n",
        "    steps_per_epoch=math.ceil(train_generator.samples//batchSize),\n",
        "    epochs=20,\n",
        "    validation_data = val_generator,\n",
        "    validation_steps = math.ceil(val_generator.samples//batchSize),\n",
        "    verbose = 1)"
      ],
      "execution_count": 11,
      "outputs": [
        {
          "output_type": "stream",
          "text": [
            "/usr/local/lib/python3.7/dist-packages/tensorflow/python/keras/engine/training.py:1844: UserWarning: `Model.fit_generator` is deprecated and will be removed in a future version. Please use `Model.fit`, which supports generators.\n",
            "  warnings.warn('`Model.fit_generator` is deprecated and '\n"
          ],
          "name": "stderr"
        },
        {
          "output_type": "stream",
          "text": [
            "Epoch 1/20\n",
            "120/120 [==============================] - 39s 157ms/step - loss: 8.2146 - accuracy: 0.5803 - val_loss: 0.3762 - val_accuracy: 0.8333\n",
            "Epoch 2/20\n",
            "120/120 [==============================] - 17s 139ms/step - loss: 1.2578 - accuracy: 0.7314 - val_loss: 0.4157 - val_accuracy: 0.8438\n",
            "Epoch 3/20\n",
            "120/120 [==============================] - 17s 139ms/step - loss: 0.6650 - accuracy: 0.7608 - val_loss: 0.4209 - val_accuracy: 0.8635\n",
            "Epoch 4/20\n",
            "120/120 [==============================] - 16s 137ms/step - loss: 0.5230 - accuracy: 0.7993 - val_loss: 0.3155 - val_accuracy: 0.8823\n",
            "Epoch 5/20\n",
            "120/120 [==============================] - 17s 138ms/step - loss: 0.3760 - accuracy: 0.8446 - val_loss: 0.3142 - val_accuracy: 0.8802\n",
            "Epoch 6/20\n",
            "120/120 [==============================] - 17s 138ms/step - loss: 0.3376 - accuracy: 0.8653 - val_loss: 0.2509 - val_accuracy: 0.9062\n",
            "Epoch 7/20\n",
            "120/120 [==============================] - 17s 139ms/step - loss: 0.3221 - accuracy: 0.8695 - val_loss: 0.2592 - val_accuracy: 0.8729\n",
            "Epoch 8/20\n",
            "120/120 [==============================] - 17s 139ms/step - loss: 0.2430 - accuracy: 0.9043 - val_loss: 0.2230 - val_accuracy: 0.9104\n",
            "Epoch 9/20\n",
            "120/120 [==============================] - 17s 138ms/step - loss: 0.2192 - accuracy: 0.9131 - val_loss: 0.2453 - val_accuracy: 0.8969\n",
            "Epoch 10/20\n",
            "120/120 [==============================] - 17s 138ms/step - loss: 0.2363 - accuracy: 0.9076 - val_loss: 0.2164 - val_accuracy: 0.9052\n",
            "Epoch 11/20\n",
            "120/120 [==============================] - 17s 139ms/step - loss: 0.1648 - accuracy: 0.9330 - val_loss: 0.2274 - val_accuracy: 0.8969\n",
            "Epoch 12/20\n",
            "120/120 [==============================] - 17s 137ms/step - loss: 0.1893 - accuracy: 0.9240 - val_loss: 0.2064 - val_accuracy: 0.9167\n",
            "Epoch 13/20\n",
            "120/120 [==============================] - 17s 137ms/step - loss: 0.1618 - accuracy: 0.9360 - val_loss: 0.1984 - val_accuracy: 0.9219\n",
            "Epoch 14/20\n",
            "120/120 [==============================] - 16s 137ms/step - loss: 0.1330 - accuracy: 0.9468 - val_loss: 0.2002 - val_accuracy: 0.9219\n",
            "Epoch 15/20\n",
            "120/120 [==============================] - 17s 138ms/step - loss: 0.1450 - accuracy: 0.9468 - val_loss: 0.2916 - val_accuracy: 0.8833\n",
            "Epoch 16/20\n",
            "120/120 [==============================] - 17s 137ms/step - loss: 0.1479 - accuracy: 0.9437 - val_loss: 0.2234 - val_accuracy: 0.9062\n",
            "Epoch 17/20\n",
            "120/120 [==============================] - 17s 139ms/step - loss: 0.1009 - accuracy: 0.9623 - val_loss: 0.1970 - val_accuracy: 0.9219\n",
            "Epoch 18/20\n",
            "120/120 [==============================] - 17s 139ms/step - loss: 0.0775 - accuracy: 0.9686 - val_loss: 0.2032 - val_accuracy: 0.9323\n",
            "Epoch 19/20\n",
            "120/120 [==============================] - 17s 138ms/step - loss: 0.1180 - accuracy: 0.9558 - val_loss: 0.2195 - val_accuracy: 0.9167\n",
            "Epoch 20/20\n",
            "120/120 [==============================] - 17s 138ms/step - loss: 0.1005 - accuracy: 0.9614 - val_loss: 0.3788 - val_accuracy: 0.8750\n"
          ],
          "name": "stdout"
        }
      ]
    },
    {
      "cell_type": "code",
      "metadata": {
        "id": "EjBZHydW4hkt",
        "colab": {
          "base_uri": "https://localhost:8080/",
          "height": 313
        },
        "outputId": "27a44e91-dd86-472c-a7e2-06b8061fd980"
      },
      "source": [
        "# display the performance of the model graphically\n",
        "import matplotlib.pyplot as plt\n",
        "%matplotlib inline\n",
        "print(history.history.keys())\n",
        "acc = history.history['accuracy']\n",
        "val_acc = history.history['val_accuracy']\n",
        "loss = history.history['loss']\n",
        "val_loss = history.history['val_loss']\n",
        "\n",
        "epochs = range(len(acc))\n",
        "\n",
        "plt.plot(epochs, acc, 'r', label='Training accuracy')\n",
        "plt.plot(epochs, val_acc, 'b', label='Validation accuracy')\n",
        "plt.title('Training and validation Acc')\n",
        "plt.legend(loc=0)\n",
        "plt.figure()\n",
        "\n",
        "plt.show()"
      ],
      "execution_count": 12,
      "outputs": [
        {
          "output_type": "stream",
          "text": [
            "dict_keys(['loss', 'accuracy', 'val_loss', 'val_accuracy'])\n"
          ],
          "name": "stdout"
        },
        {
          "output_type": "display_data",
          "data": {
            "image/png": "[encoded data removed]",
            "text/plain": [
              "<Figure size 432x288 with 1 Axes>"
            ]
          },
          "metadata": {
            "tags": [],
            "needs_background": "light"
          }
        },
        {
          "output_type": "display_data",
          "data": {
            "text/plain": [
              "<Figure size 432x288 with 0 Axes>"
            ]
          },
          "metadata": {
            "tags": []
          }
        }
      ]
    },
    {
      "cell_type": "code",
      "metadata": {
        "colab": {
          "base_uri": "https://localhost:8080/",
          "height": 297
        },
        "id": "YmOpBNoVXLbg",
        "outputId": "4bec19ea-af12-466a-cbad-ad4dd6a86f62"
      },
      "source": [
        "# display the performance of the model graphically\n",
        "import matplotlib.pyplot as plt\n",
        "%matplotlib inline\n",
        "\n",
        "plt.plot(epochs, loss, 'g', label='Training loss')\n",
        "plt.plot(epochs, val_loss, 'y', label='Validation loss')\n",
        "plt.title('Training and validation Loss')\n",
        "plt.legend(loc=0)\n",
        "plt.figure()\n",
        "\n",
        "plt.show()"
      ],
      "execution_count": 13,
      "outputs": [
        {
          "output_type": "display_data",
          "data": {
            "image/png": "[encoded data removed]",
            "text/plain": [
              "<Figure size 432x288 with 1 Axes>"
            ]
          },
          "metadata": {
            "tags": [],
            "needs_background": "light"
          }
        },
        {
          "output_type": "display_data",
          "data": {
            "text/plain": [
              "<Figure size 432x288 with 0 Axes>"
            ]
          },
          "metadata": {
            "tags": []
          }
        }
      ]
    },
    {
      "cell_type": "code",
      "metadata": {
        "colab": {
          "base_uri": "https://localhost:8080/"
        },
        "id": "98WqjORlIeMX",
        "outputId": "0391332f-bd75-4e10-a5cb-45e0988c780d"
      },
      "source": [
        "score = model.evaluate(val_generator)\n",
        "print(score)"
      ],
      "execution_count": 14,
      "outputs": [
        {
          "output_type": "stream",
          "text": [
            "31/31 [==============================] - 4s 126ms/step - loss: 0.3743 - accuracy: 0.8758\n",
            "[0.3742513954639435, 0.8757575750350952]\n"
          ],
          "name": "stdout"
        }
      ]
    },
    {
      "cell_type": "markdown",
      "metadata": {
        "id": "Ml2MeepgWxeG"
      },
      "source": [
        "# Confusion_Matrix_Test"
      ]
    },
    {
      "cell_type": "code",
      "metadata": {
        "id": "43Rx0vr6JL7S",
        "colab": {
          "base_uri": "https://localhost:8080/"
        },
        "outputId": "7bf16e3f-5f3c-4995-dddc-ac3d17311e98"
      },
      "source": [
        "from tqdm import tqdm\n",
        "# Store the data in X_train, y_train variables by iterating over the batches\n",
        "\n",
        "val_generator.reset()\n",
        "x_test, y_test = next(val_generator)\n",
        "for i in tqdm(range(int(val_generator.samples/batchSize)-1)): #1st batch is alread fetched before the for loop\n",
        "  img, label = next(val_generator)\n",
        "  x_test = np.append(x_test, img, axis=0 )\n",
        "  y_test = np.append(y_test, label, axis=0)\n",
        "  \n",
        "# do the predictions\n",
        "y_predicted = model.predict(x_test)\n",
        "y_pred = np.round(y_predicted)\n",
        "\n",
        "import matplotlib.pyplot as plt\n",
        "from sklearn.metrics import confusion_matrix,classification_report\n",
        "font = {\n",
        "'family': 'Times New Roman',\n",
        "'size': 12\n",
        "}\n",
        "plt.rc('font', **font)\n",
        "mat = confusion_matrix(np.round(y_test),y_pred)\n",
        "print(mat)\n",
        "#class_labels = list(val_generator.class_indices.keys())\n",
        "class_labels=['0','1']\n",
        "report = classification_report(np.round(y_test), y_pred, target_names=class_labels)\n",
        "print(report)"
      ],
      "execution_count": 15,
      "outputs": [
        {
          "output_type": "stream",
          "text": [
            "100%|██████████| 29/29 [00:05<00:00,  5.01it/s]\n"
          ],
          "name": "stderr"
        },
        {
          "output_type": "stream",
          "text": [
            "[[621 109]\n",
            " [ 13 217]]\n",
            "              precision    recall  f1-score   support\n",
            "\n",
            "           0       0.98      0.85      0.91       730\n",
            "           1       0.67      0.94      0.78       230\n",
            "\n",
            "    accuracy                           0.87       960\n",
            "   macro avg       0.82      0.90      0.85       960\n",
            "weighted avg       0.90      0.87      0.88       960\n",
            "\n"
          ],
          "name": "stdout"
        }
      ]
    }
  ]
}